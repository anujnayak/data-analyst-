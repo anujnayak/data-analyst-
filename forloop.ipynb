{
 "cells": [
  {
   "cell_type": "code",
   "execution_count": 1,
   "id": "8a080e35-873f-4221-b3a7-2104e3756f5a",
   "metadata": {},
   "outputs": [],
   "source": [
    "l = [1,2,3,3,]"
   ]
  },
  {
   "cell_type": "code",
   "execution_count": 2,
   "id": "082cd6e6-e5d4-4674-b45c-426a73a8de46",
   "metadata": {},
   "outputs": [
    {
     "ename": "SyntaxError",
     "evalue": "invalid syntax (1086628204.py, line 1)",
     "output_type": "error",
     "traceback": [
      "\u001b[0;36m  Cell \u001b[0;32mIn[2], line 1\u001b[0;36m\u001b[0m\n\u001b[0;31m    type.(l)\u001b[0m\n\u001b[0m         ^\u001b[0m\n\u001b[0;31mSyntaxError\u001b[0m\u001b[0;31m:\u001b[0m invalid syntax\n"
     ]
    }
   ],
   "source": [
    "type.(l)"
   ]
  },
  {
   "cell_type": "code",
   "execution_count": 3,
   "id": "81ed7f52-3750-4196-b1d9-c48785ce5f18",
   "metadata": {},
   "outputs": [
    {
     "name": "stdout",
     "output_type": "stream",
     "text": [
      "[1, 2, 3, 3]\n"
     ]
    }
   ],
   "source": [
    "print(l)"
   ]
  },
  {
   "cell_type": "code",
   "execution_count": 4,
   "id": "dfb477d6-2ab3-4421-a2ad-54466e0abd27",
   "metadata": {},
   "outputs": [
    {
     "ename": "SyntaxError",
     "evalue": "expected ':' (1775075003.py, line 1)",
     "output_type": "error",
     "traceback": [
      "\u001b[0;36m  Cell \u001b[0;32mIn[4], line 1\u001b[0;36m\u001b[0m\n\u001b[0;31m    for i in 1\u001b[0m\n\u001b[0m              ^\u001b[0m\n\u001b[0;31mSyntaxError\u001b[0m\u001b[0;31m:\u001b[0m expected ':'\n"
     ]
    }
   ],
   "source": [
    "for i in 1"
   ]
  },
  {
   "cell_type": "code",
   "execution_count": 6,
   "id": "a01d1b71-cd35-4761-9956-e27be6f7716c",
   "metadata": {},
   "outputs": [
    {
     "ename": "SyntaxError",
     "evalue": "incomplete input (3775709523.py, line 1)",
     "output_type": "error",
     "traceback": [
      "\u001b[0;36m  Cell \u001b[0;32mIn[6], line 1\u001b[0;36m\u001b[0m\n\u001b[0;31m    for i in 1 :\u001b[0m\n\u001b[0m                ^\u001b[0m\n\u001b[0;31mSyntaxError\u001b[0m\u001b[0;31m:\u001b[0m incomplete input\n"
     ]
    }
   ],
   "source": [
    "for i in 1 :"
   ]
  },
  {
   "cell_type": "code",
   "execution_count": 7,
   "id": "c28510c1-2451-4cd1-bbb6-bafa3951a222",
   "metadata": {},
   "outputs": [
    {
     "ename": "SyntaxError",
     "evalue": "incomplete input (3775709523.py, line 1)",
     "output_type": "error",
     "traceback": [
      "\u001b[0;36m  Cell \u001b[0;32mIn[7], line 1\u001b[0;36m\u001b[0m\n\u001b[0;31m    for i in 1 :\u001b[0m\n\u001b[0m                ^\u001b[0m\n\u001b[0;31mSyntaxError\u001b[0m\u001b[0;31m:\u001b[0m incomplete input\n"
     ]
    }
   ],
   "source": [
    "for i in 1 :"
   ]
  },
  {
   "cell_type": "code",
   "execution_count": 8,
   "id": "a7d8c783-6c56-4bfb-b181-fd45016b73f8",
   "metadata": {},
   "outputs": [],
   "source": [
    "l = [1,2,3,3,]"
   ]
  },
  {
   "cell_type": "code",
   "execution_count": 9,
   "id": "8cf4a064-83c6-49bd-8cf5-98c2851ab5b8",
   "metadata": {},
   "outputs": [
    {
     "name": "stdout",
     "output_type": "stream",
     "text": [
      "1 <class 'int'>\n",
      "2 <class 'int'>\n",
      "3 <class 'int'>\n",
      "3 <class 'int'>\n"
     ]
    }
   ],
   "source": [
    "for i in l :\n",
    "     print (i, type(i))"
   ]
  },
  {
   "cell_type": "code",
   "execution_count": 10,
   "id": "2687e93f-8705-4031-aeb3-57ef87001cf1",
   "metadata": {},
   "outputs": [
    {
     "name": "stdout",
     "output_type": "stream",
     "text": [
      "1\n",
      "2\n",
      "3\n",
      "3\n"
     ]
    }
   ],
   "source": [
    "for i in l :\n",
    "     print (i)"
   ]
  },
  {
   "cell_type": "code",
   "execution_count": 11,
   "id": "83ce43c3-d287-45dc-80eb-c42168bb1688",
   "metadata": {},
   "outputs": [],
   "source": [
    "l1 = [\"sudh\", \"kumar\", \"krish\",]"
   ]
  },
  {
   "cell_type": "code",
   "execution_count": 12,
   "id": "551b17e8-0f24-4ba5-89dc-b0ed6b7141c5",
   "metadata": {},
   "outputs": [
    {
     "name": "stdout",
     "output_type": "stream",
     "text": [
      "['sudh', 'kumar', 'krish']\n"
     ]
    }
   ],
   "source": [
    "print(l1)"
   ]
  },
  {
   "cell_type": "code",
   "execution_count": 13,
   "id": "3d388cd9-8469-48e5-a64a-4b8820b7a17f",
   "metadata": {},
   "outputs": [
    {
     "name": "stdout",
     "output_type": "stream",
     "text": [
      "sudh\n",
      "kumar\n",
      "krish\n"
     ]
    }
   ],
   "source": [
    "for i in l1 :\n",
    "    print(i)"
   ]
  },
  {
   "cell_type": "code",
   "execution_count": 14,
   "id": "2bb8732c-4a36-4df4-830c-3b8070eecfe6",
   "metadata": {},
   "outputs": [
    {
     "name": "stdout",
     "output_type": "stream",
     "text": [
      "sudh <class 'str'>\n",
      "kumar <class 'str'>\n",
      "krish <class 'str'>\n"
     ]
    }
   ],
   "source": [
    "for i in l1 :\n",
    "    print(i,type(i))"
   ]
  },
  {
   "cell_type": "code",
   "execution_count": 15,
   "id": "70a29095-182e-4ed9-b9b7-07cfa3cf4399",
   "metadata": {},
   "outputs": [
    {
     "ename": "SyntaxError",
     "evalue": "invalid syntax (212364234.py, line 3)",
     "output_type": "error",
     "traceback": [
      "\u001b[0;36m  Cell \u001b[0;32mIn[15], line 3\u001b[0;36m\u001b[0m\n\u001b[0;31m    else :\u001b[0m\n\u001b[0m    ^\u001b[0m\n\u001b[0;31mSyntaxError\u001b[0m\u001b[0;31m:\u001b[0m invalid syntax\n"
     ]
    }
   ],
   "source": [
    "for i in l1 :\n",
    "    print(i)\n",
    "    else :\n",
    "        print(\"do somthing\")"
   ]
  },
  {
   "cell_type": "code",
   "execution_count": 16,
   "id": "5063a99a-673a-48cf-bc64-660e64e1eed7",
   "metadata": {},
   "outputs": [
    {
     "name": "stdout",
     "output_type": "stream",
     "text": [
      "sudh\n",
      "kumar\n",
      "krish\n",
      "do somthing\n"
     ]
    }
   ],
   "source": [
    "for i in l1 :\n",
    "    print(i)\n",
    "else :\n",
    "        print(\"do somthing\")"
   ]
  },
  {
   "cell_type": "code",
   "execution_count": 17,
   "id": "889c820c-7647-4bba-9896-12873ba0ace9",
   "metadata": {},
   "outputs": [
    {
     "ename": "SyntaxError",
     "evalue": "invalid syntax (2189481223.py, line 3)",
     "output_type": "error",
     "traceback": [
      "\u001b[0;36m  Cell \u001b[0;32mIn[17], line 3\u001b[0;36m\u001b[0m\n\u001b[0;31m    else :\u001b[0m\n\u001b[0m    ^\u001b[0m\n\u001b[0;31mSyntaxError\u001b[0m\u001b[0;31m:\u001b[0m invalid syntax\n"
     ]
    }
   ],
   "source": [
    "for i in l1 :\n",
    "    print(i)\n",
    "    else :\n",
    "        print(\"of for loop is able to complet itself then only else will execute\")"
   ]
  },
  {
   "cell_type": "code",
   "execution_count": 18,
   "id": "4ece6c6b-ee07-4a20-ae49-63d4d00eb52c",
   "metadata": {},
   "outputs": [
    {
     "name": "stdout",
     "output_type": "stream",
     "text": [
      "sudh\n",
      "kumar\n",
      "krish\n",
      "of for loop is able to complet itself then only else will execute\n"
     ]
    }
   ],
   "source": [
    "for i in l1 :\n",
    "    print(i)\n",
    "else :\n",
    "        print(\"of for loop is able to complet itself then only else will execute\")"
   ]
  },
  {
   "cell_type": "code",
   "execution_count": 19,
   "id": "84b65922-8608-4d8a-96e9-cf7bd8ea45bc",
   "metadata": {},
   "outputs": [
    {
     "name": "stdout",
     "output_type": "stream",
     "text": [
      "sudh\n",
      "kumar\n",
      "krish\n"
     ]
    }
   ],
   "source": [
    "for i in  l1 : \n",
    "    print(i)\n",
    "    "
   ]
  },
  {
   "cell_type": "code",
   "execution_count": 20,
   "id": "fbc12172-6751-4e00-a7a1-428efaba2f40",
   "metadata": {},
   "outputs": [],
   "source": [
    "l2 = [\"anuj\", 123,5+2j]"
   ]
  },
  {
   "cell_type": "code",
   "execution_count": 21,
   "id": "dc89b9d4-a7c3-4c9d-a7b4-2234a338e954",
   "metadata": {},
   "outputs": [
    {
     "name": "stdout",
     "output_type": "stream",
     "text": [
      "['anuj', 123, (5+2j)]\n"
     ]
    }
   ],
   "source": [
    "print(l2)"
   ]
  },
  {
   "cell_type": "code",
   "execution_count": 22,
   "id": "3db93080-4f6f-4ef6-81ba-0d5b9c1471ed",
   "metadata": {},
   "outputs": [
    {
     "data": {
      "text/plain": [
       "['sudh', 'kumar', 'krish']"
      ]
     },
     "execution_count": 22,
     "metadata": {},
     "output_type": "execute_result"
    }
   ],
   "source": [
    "l1"
   ]
  },
  {
   "cell_type": "code",
   "execution_count": 23,
   "id": "dd537774-1e7a-40b9-b9ee-487877842b68",
   "metadata": {},
   "outputs": [
    {
     "name": "stdout",
     "output_type": "stream",
     "text": [
      "sudh\n"
     ]
    }
   ],
   "source": [
    "for i in l1:\n",
    "    if i == \"kumar\":\n",
    "        break\n",
    "    print(i)    "
   ]
  },
  {
   "cell_type": "code",
   "execution_count": 1,
   "id": "ae910163-0eba-41f0-b9f8-9f1ccec078ab",
   "metadata": {},
   "outputs": [],
   "source": [
    "d = {}\n"
   ]
  },
  {
   "cell_type": "code",
   "execution_count": 2,
   "id": "b3b42a5c-f1e1-4dcb-b5a6-c6e31c438358",
   "metadata": {},
   "outputs": [
    {
     "data": {
      "text/plain": [
       "dict"
      ]
     },
     "execution_count": 2,
     "metadata": {},
     "output_type": "execute_result"
    }
   ],
   "source": [
    "type(d)"
   ]
  },
  {
   "cell_type": "code",
   "execution_count": 3,
   "id": "0c106e00-2f70-4a75-8c70-dfe3afb421ca",
   "metadata": {},
   "outputs": [],
   "source": [
    "d1 = {\"key \": \"anuj\"}"
   ]
  },
  {
   "cell_type": "code",
   "execution_count": 4,
   "id": "cdf85070-da1e-438c-b118-5b022fd2d8cb",
   "metadata": {},
   "outputs": [
    {
     "data": {
      "text/plain": [
       "{'key ': 'anuj'}"
      ]
     },
     "execution_count": 4,
     "metadata": {},
     "output_type": "execute_result"
    }
   ],
   "source": [
    "d1"
   ]
  },
  {
   "cell_type": "code",
   "execution_count": 6,
   "id": "7dd92f4e-d036-49c2-bb08-21c912248055",
   "metadata": {},
   "outputs": [],
   "source": [
    "d2 = {\"name\" : \"anuj\" , \"email\" : \"anujnayak2k11@gmail.com\", \"number\" : 12345}"
   ]
  },
  {
   "cell_type": "code",
   "execution_count": 7,
   "id": "ab5846a4-32cb-4f51-94a7-3098f2ce1b44",
   "metadata": {},
   "outputs": [
    {
     "data": {
      "text/plain": [
       "{'name': 'anuj', 'email': 'anujnayak2k11@gmail.com', 'number': 12345}"
      ]
     },
     "execution_count": 7,
     "metadata": {},
     "output_type": "execute_result"
    }
   ],
   "source": [
    "d2"
   ]
  },
  {
   "cell_type": "code",
   "execution_count": 1,
   "id": "97fcb1a1-2d59-4358-932c-ff918c04e5a1",
   "metadata": {},
   "outputs": [
    {
     "ename": "NameError",
     "evalue": "name 'marks' is not defined",
     "output_type": "error",
     "traceback": [
      "\u001b[0;31m---------------------------------------------------------------------------\u001b[0m",
      "\u001b[0;31mNameError\u001b[0m                                 Traceback (most recent call last)",
      "Cell \u001b[0;32mIn[1], line 1\u001b[0m\n\u001b[0;32m----> 1\u001b[0m \u001b[38;5;28;01mif\u001b[39;00m \u001b[43mmarks\u001b[49m \u001b[38;5;241m<\u001b[39m\u001b[38;5;241m=\u001b[39m \u001b[38;5;241m80\u001b[39m:\n\u001b[1;32m      2\u001b[0m     \u001b[38;5;28mprint\u001b[39m (\u001b[38;5;124m\"\u001b[39m\u001b[38;5;124myou will bw part og a batch\u001b[39m\u001b[38;5;124m\"\u001b[39m)\n",
      "\u001b[0;31mNameError\u001b[0m: name 'marks' is not defined"
     ]
    }
   ],
   "source": [
    "if marks <= 80:\n",
    "    print (\"you will bw part og a batch\")\n",
    "    "
   ]
  },
  {
   "cell_type": "code",
   "execution_count": 1,
   "id": "5d08e67f-9fce-4e54-b63e-104d8b03c933",
   "metadata": {},
   "outputs": [
    {
     "ename": "NameError",
     "evalue": "name 'marks' is not defined",
     "output_type": "error",
     "traceback": [
      "\u001b[0;31m---------------------------------------------------------------------------\u001b[0m",
      "\u001b[0;31mNameError\u001b[0m                                 Traceback (most recent call last)",
      "Cell \u001b[0;32mIn[1], line 1\u001b[0m\n\u001b[0;32m----> 1\u001b[0m \u001b[38;5;28;01mif\u001b[39;00m \u001b[43mmarks\u001b[49m \u001b[38;5;241m<\u001b[39m\u001b[38;5;241m=\u001b[39m \u001b[38;5;241m80\u001b[39m:\n\u001b[1;32m      2\u001b[0m     \u001b[38;5;28mprint\u001b[39m (\u001b[38;5;124m\"\u001b[39m\u001b[38;5;124myou will bw part of A batch\u001b[39m\u001b[38;5;124m\"\u001b[39m)\n\u001b[1;32m      3\u001b[0m \u001b[38;5;28;01melif\u001b[39;00m marks \u001b[38;5;241m>\u001b[39m\u001b[38;5;241m=\u001b[39m \u001b[38;5;241m60\u001b[39m \u001b[38;5;129;01mand\u001b[39;00m marks \u001b[38;5;241m<\u001b[39m \u001b[38;5;241m80\u001b[39m :\n",
      "\u001b[0;31mNameError\u001b[0m: name 'marks' is not defined"
     ]
    }
   ],
   "source": [
    "if marks <= 80:\n",
    "    print (\"you will bw part of A batch\")\n",
    "elif marks >= 60 and marks < 80 :\n",
    "    print(\"you will be part of A1 batch\")"
   ]
  },
  {
   "cell_type": "code",
   "execution_count": 2,
   "id": "1da2a8ca-2578-47a2-b007-a1e1bdf2bc3c",
   "metadata": {},
   "outputs": [
    {
     "name": "stdout",
     "output_type": "stream",
     "text": [
      "you will bw part of A batch\n"
     ]
    }
   ],
   "source": [
    "marks = 65\n",
    "if marks <= 80:\n",
    "    print (\"you will bw part of A batch\")\n",
    "elif marks >= 60 and marks < 80 :\n",
    "    print(\"you will be part of A1 batch\")"
   ]
  },
  {
   "cell_type": "code",
   "execution_count": 3,
   "id": "d8114e2f-b4f3-416a-9369-bab446790b90",
   "metadata": {},
   "outputs": [
    {
     "data": {
      "text/plain": [
       "False"
      ]
     },
     "execution_count": 3,
     "metadata": {},
     "output_type": "execute_result"
    }
   ],
   "source": [
    "10 >= 80"
   ]
  },
  {
   "cell_type": "code",
   "execution_count": null,
   "id": "84c24a3c-88a1-46df-8c2c-e113c0169506",
   "metadata": {},
   "outputs": [],
   "source": [
    "marks = input (\"ebter your marks\")\n",
    "if marks <= 80:\n",
    "    print (\"you will bw part of A batch\")\n",
    "elif marks >= 60 and marks < 80 :\n",
    "    print(\"you will be part of A1 batch\")"
   ]
  },
  {
   "cell_type": "code",
   "execution_count": null,
   "id": "cf61d5ba-6a13-4a25-ae96-fee7219f6831",
   "metadata": {},
   "outputs": [],
   "source": []
  },
  {
   "cell_type": "code",
   "execution_count": null,
   "id": "89e08d51-5112-43e0-a93a-75630c1c7de5",
   "metadata": {},
   "outputs": [],
   "source": [
    "marks = 65\n",
    "if marks <= 80:\n",
    "    print (\"you will bw part of A batch\")\n",
    "elif marks >= 60 and marks < 80 :\n",
    "    print(\"you will be part of A1 batch\")"
   ]
  },
  {
   "cell_type": "code",
   "execution_count": null,
   "id": "32177137-2963-43a2-b429-56346c7ef713",
   "metadata": {},
   "outputs": [],
   "source": [
    "marks = 65\n",
    "if marks <= 80:\n",
    "    print (\"you will bw part of A batch\")\n",
    "elif marks >= 60 and marks < 80 :\n",
    "    print(\"you will be part of A1 batch\")"
   ]
  },
  {
   "cell_type": "code",
   "execution_count": null,
   "id": "7741d749-c72f-4545-852c-e9e9d96fe1b8",
   "metadata": {},
   "outputs": [],
   "source": [
    "type(marks)"
   ]
  },
  {
   "cell_type": "code",
   "execution_count": 1,
   "id": "941256b5-88c8-406a-ad00-fba32b449d2a",
   "metadata": {},
   "outputs": [
    {
     "name": "stdout",
     "output_type": "stream",
     "text": [
      "you will bw part of A batch\n"
     ]
    }
   ],
   "source": [
    "marks = 65\n",
    "if marks <= 80:\n",
    "    print (\"you will bw part of A batch\")\n",
    "elif marks >= 60 and marks < 80 :\n",
    "    print(\"you will be part of A1 batch\")"
   ]
  },
  {
   "cell_type": "code",
   "execution_count": 3,
   "id": "e9fff8fd-4df2-4543-b8c9-9e177f775ea6",
   "metadata": {},
   "outputs": [
    {
     "name": "stdin",
     "output_type": "stream",
     "text": [
      "enter your marks \n"
     ]
    },
    {
     "ename": "ValueError",
     "evalue": "invalid literal for int() with base 10: ''",
     "output_type": "error",
     "traceback": [
      "\u001b[0;31m---------------------------------------------------------------------------\u001b[0m",
      "\u001b[0;31mValueError\u001b[0m                                Traceback (most recent call last)",
      "Cell \u001b[0;32mIn[3], line 1\u001b[0m\n\u001b[0;32m----> 1\u001b[0m marks \u001b[38;5;241m=\u001b[39m \u001b[38;5;28;43mint\u001b[39;49m\u001b[43m(\u001b[49m\u001b[38;5;28;43minput\u001b[39;49m\u001b[43m(\u001b[49m\u001b[38;5;124;43m\"\u001b[39;49m\u001b[38;5;124;43menter your marks\u001b[39;49m\u001b[38;5;124;43m\"\u001b[39;49m\u001b[43m)\u001b[49m\u001b[43m)\u001b[49m\n\u001b[1;32m      2\u001b[0m \u001b[38;5;28;01mif\u001b[39;00m marks \u001b[38;5;241m<\u001b[39m\u001b[38;5;241m=\u001b[39m \u001b[38;5;241m80\u001b[39m:\n\u001b[1;32m      3\u001b[0m     \u001b[38;5;28mprint\u001b[39m (\u001b[38;5;124m\"\u001b[39m\u001b[38;5;124myou will bw part of A batch\u001b[39m\u001b[38;5;124m\"\u001b[39m)\n",
      "\u001b[0;31mValueError\u001b[0m: invalid literal for int() with base 10: ''"
     ]
    }
   ],
   "source": [
    "marks = int(input(\"enter your marks\"))\n",
    "if marks <= 80:\n",
    "    print (\"you will bw part of A batch\")\n",
    "elif marks >= 60 and marks < 80 :\n",
    "    print(\"you will be part of A1 batch\")"
   ]
  },
  {
   "cell_type": "code",
   "execution_count": 5,
   "id": "b0272d0c-145a-4a35-8968-c3eca7fd2b8c",
   "metadata": {},
   "outputs": [
    {
     "name": "stdin",
     "output_type": "stream",
     "text": [
      "enter your marks 25\n"
     ]
    },
    {
     "name": "stdout",
     "output_type": "stream",
     "text": [
      "you will bw part of A batch\n"
     ]
    }
   ],
   "source": [
    "marks = int(input(\"enter your marks\"))\n",
    "if marks <= 80:\n",
    "    print (\"you will bw part of A batch\")\n",
    "elif marks >= 60 and marks < 80 :\n",
    "    print(\"you will be part of A1 batch\")"
   ]
  },
  {
   "cell_type": "code",
   "execution_count": null,
   "id": "6eda293a-ac4d-46e7-ab41-2d562d40ea28",
   "metadata": {},
   "outputs": [],
   "source": []
  },
  {
   "cell_type": "code",
   "execution_count": 7,
   "id": "12f05965-0e34-456b-ad6c-b66ccb2c5dde",
   "metadata": {},
   "outputs": [
    {
     "data": {
      "text/plain": [
       "1"
      ]
     },
     "execution_count": 7,
     "metadata": {},
     "output_type": "execute_result"
    }
   ],
   "source": [
    "l[0]"
   ]
  },
  {
   "cell_type": "code",
   "execution_count": 8,
   "id": "e0f0c425-1da7-4d63-9d05-14767bb715df",
   "metadata": {},
   "outputs": [
    {
     "data": {
      "text/plain": [
       "2"
      ]
     },
     "execution_count": 8,
     "metadata": {},
     "output_type": "execute_result"
    }
   ],
   "source": [
    "l[0]+1"
   ]
  },
  {
   "cell_type": "code",
   "execution_count": 9,
   "id": "7534661f-bd62-4741-b475-aaf9235d164d",
   "metadata": {},
   "outputs": [
    {
     "ename": "NameError",
     "evalue": "name 'l1' is not defined",
     "output_type": "error",
     "traceback": [
      "\u001b[0;31m---------------------------------------------------------------------------\u001b[0m",
      "\u001b[0;31mNameError\u001b[0m                                 Traceback (most recent call last)",
      "Cell \u001b[0;32mIn[9], line 1\u001b[0m\n\u001b[0;32m----> 1\u001b[0m \u001b[43ml1\u001b[49m\u001b[38;5;241m.\u001b[39mappend(l[\u001b[38;5;241m0\u001b[39m]\u001b[38;5;241m+\u001b[39m\u001b[38;5;241m1\u001b[39m)\n",
      "\u001b[0;31mNameError\u001b[0m: name 'l1' is not defined"
     ]
    }
   ],
   "source": []
  },
  {
   "cell_type": "code",
   "execution_count": 10,
   "id": "0b3498b6-baf0-4de2-b33e-73c704b29167",
   "metadata": {},
   "outputs": [
    {
     "name": "stdout",
     "output_type": "stream",
     "text": [
      "[1, 2, 3, 3, 4, 5, 6, 7, 8]\n",
      "[1, 2, 3, 3, 4, 5, 6, 7, 8]\n",
      "[1, 2, 3, 3, 4, 5, 6, 7, 8]\n",
      "[1, 2, 3, 3, 4, 5, 6, 7, 8]\n",
      "[1, 2, 3, 3, 4, 5, 6, 7, 8]\n",
      "[1, 2, 3, 3, 4, 5, 6, 7, 8]\n",
      "[1, 2, 3, 3, 4, 5, 6, 7, 8]\n",
      "[1, 2, 3, 3, 4, 5, 6, 7, 8]\n",
      "[1, 2, 3, 3, 4, 5, 6, 7, 8]\n"
     ]
    }
   ],
   "source": [
    "for i in l :\n",
    "    print(l)"
   ]
  },
  {
   "cell_type": "code",
   "execution_count": 11,
   "id": "653cfa36-8634-4b7a-907a-587a4e634ed3",
   "metadata": {},
   "outputs": [
    {
     "name": "stdin",
     "output_type": "stream",
     "text": [
      "enter your marks 5\n"
     ]
    },
    {
     "name": "stdout",
     "output_type": "stream",
     "text": [
      "you will bw part of A batch\n"
     ]
    }
   ],
   "source": [
    "marks = int(input(\"enter your marks\"))\n",
    "if marks <= 80:\n",
    "    print (\"you will bw part of A batch\")\n",
    "elif marks >= 60 and marks < 80 :\n",
    "    print(\"you will be part of A1 batch\")"
   ]
  },
  {
   "cell_type": "code",
   "execution_count": 12,
   "id": "3e57a9e0-b6ba-43fb-aa80-645e0d8c1552",
   "metadata": {},
   "outputs": [
    {
     "ename": "SyntaxError",
     "evalue": "invalid syntax (3325658251.py, line 1)",
     "output_type": "error",
     "traceback": [
      "\u001b[0;36m  Cell \u001b[0;32mIn[12], line 1\u001b[0;36m\u001b[0m\n\u001b[0;31m    for in l :\u001b[0m\n\u001b[0m        ^\u001b[0m\n\u001b[0;31mSyntaxError\u001b[0m\u001b[0;31m:\u001b[0m invalid syntax\n"
     ]
    }
   ],
   "source": [
    "for in l :\n",
    "    print (i)"
   ]
  },
  {
   "cell_type": "code",
   "execution_count": 14,
   "id": "0ef6851b-364e-45df-8f33-4e0c52226e59",
   "metadata": {},
   "outputs": [
    {
     "name": "stdout",
     "output_type": "stream",
     "text": [
      "2\n",
      "3\n",
      "4\n",
      "4\n",
      "5\n",
      "6\n",
      "7\n",
      "8\n",
      "9\n"
     ]
    }
   ],
   "source": [
    "for i in l :\n",
    "    print (i+1)"
   ]
  },
  {
   "cell_type": "code",
   "execution_count": 15,
   "id": "0972eb14-1ddd-4df0-8afd-193e6cb91180",
   "metadata": {},
   "outputs": [],
   "source": [
    "l = [\"anuj\", \"nayak\"]"
   ]
  },
  {
   "cell_type": "code",
   "execution_count": 17,
   "id": "2abda6e1-432b-47b0-8c76-14cbd728468b",
   "metadata": {},
   "outputs": [
    {
     "name": "stdout",
     "output_type": "stream",
     "text": [
      "anuj\n",
      "nayak\n"
     ]
    }
   ],
   "source": [
    "l1=[]\n",
    "for i in l :\n",
    "    print(i)\n",
    "    l1.append(i.upper())"
   ]
  },
  {
   "cell_type": "markdown",
   "id": "003aee1e-c56e-4750-9f1e-7cf5fae39bc4",
   "metadata": {},
   "source": [
    "l1"
   ]
  },
  {
   "cell_type": "code",
   "execution_count": 18,
   "id": "a19217e8-dd1a-4782-abbb-57338db20ce5",
   "metadata": {},
   "outputs": [
    {
     "data": {
      "text/plain": [
       "['ANUJ', 'NAYAK']"
      ]
     },
     "execution_count": 18,
     "metadata": {},
     "output_type": "execute_result"
    }
   ],
   "source": [
    "l1"
   ]
  },
  {
   "cell_type": "code",
   "execution_count": 2,
   "id": "c5bc86f3-d217-4078-a6e1-f1ecfd3342f0",
   "metadata": {},
   "outputs": [],
   "source": [
    "l2 =[\"anuj\", 2 , 3 ,\"nayak\"]"
   ]
  },
  {
   "cell_type": "code",
   "execution_count": null,
   "id": "c607c3f2-43ec-40b9-8264-b193df514cb7",
   "metadata": {},
   "outputs": [],
   "source": []
  },
  {
   "cell_type": "code",
   "execution_count": 3,
   "id": "85ed01d8-0957-4fbb-8d50-496aa7b852c0",
   "metadata": {},
   "outputs": [
    {
     "name": "stdout",
     "output_type": "stream",
     "text": [
      "['anuj', 2, 3, 'nayak']\n"
     ]
    }
   ],
   "source": [
    "print(l2)"
   ]
  },
  {
   "cell_type": "code",
   "execution_count": 5,
   "id": "6de49fea-cea2-4004-87da-6cad2e3396cc",
   "metadata": {},
   "outputs": [
    {
     "ename": "SyntaxError",
     "evalue": "invalid syntax (932699887.py, line 1)",
     "output_type": "error",
     "traceback": [
      "\u001b[0;36m  Cell \u001b[0;32mIn[5], line 1\u001b[0;36m\u001b[0m\n\u001b[0;31m    l3[]\u001b[0m\n\u001b[0m       ^\u001b[0m\n\u001b[0;31mSyntaxError\u001b[0m\u001b[0;31m:\u001b[0m invalid syntax\n"
     ]
    }
   ],
   "source": [
    "l3[]\n",
    "for i in l2:\n",
    "    print(i)\n",
    "     l3.append(i.upper())"
   ]
  },
  {
   "cell_type": "code",
   "execution_count": 1,
   "id": "1bcef560-9328-4e0e-9644-b161d0090e36",
   "metadata": {},
   "outputs": [],
   "source": [
    "l = [1,2,3,4,4,\"sudh\", \"kumar\", 324, 34.456, \"abc\"]"
   ]
  },
  {
   "cell_type": "code",
   "execution_count": 4,
   "id": "2450a2ed-6961-44b1-bb6f-3dd5a9705f58",
   "metadata": {},
   "outputs": [],
   "source": [
    "l1_num = []\n",
    "l2_str = []\n",
    "for i in l :\n",
    "    if type(i) == int or type(i) == float :\n",
    "        l1_num.append(i)\n",
    "    else :\n",
    "        l2_str.append(i)"
   ]
  },
  {
   "cell_type": "code",
   "execution_count": null,
   "id": "8a175c77-af81-41c1-83c7-330da85f8ace",
   "metadata": {},
   "outputs": [],
   "source": []
  },
  {
   "cell_type": "code",
   "execution_count": 5,
   "id": "f0379ae6-6789-48f3-a203-03ac162ddc5b",
   "metadata": {},
   "outputs": [
    {
     "data": {
      "text/plain": [
       "[1, 2, 3, 4, 4, 324, 34.456]"
      ]
     },
     "execution_count": 5,
     "metadata": {},
     "output_type": "execute_result"
    }
   ],
   "source": [
    "l1_num\n"
   ]
  },
  {
   "cell_type": "code",
   "execution_count": 6,
   "id": "ec9e3597-f0f1-4bb6-bf6b-bc777497397f",
   "metadata": {},
   "outputs": [
    {
     "data": {
      "text/plain": [
       "['sudh', 'kumar', 'abc']"
      ]
     },
     "execution_count": 6,
     "metadata": {},
     "output_type": "execute_result"
    }
   ],
   "source": [
    "l2_str"
   ]
  },
  {
   "cell_type": "code",
   "execution_count": null,
   "id": "a9cafd58-814f-4b32-96bb-a357e703f259",
   "metadata": {},
   "outputs": [],
   "source": []
  }
 ],
 "metadata": {
  "kernelspec": {
   "display_name": "Python 3 (ipykernel)",
   "language": "python",
   "name": "python3"
  },
  "language_info": {
   "codemirror_mode": {
    "name": "ipython",
    "version": 3
   },
   "file_extension": ".py",
   "mimetype": "text/x-python",
   "name": "python",
   "nbconvert_exporter": "python",
   "pygments_lexer": "ipython3",
   "version": "3.10.8"
  }
 },
 "nbformat": 4,
 "nbformat_minor": 5
}
